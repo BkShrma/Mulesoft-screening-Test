{
  "metadata": {
    "language_info": {
      "codemirror_mode": {
        "name": "python",
        "version": 3
      },
      "file_extension": ".py",
      "mimetype": "text/x-python",
      "name": "python",
      "nbconvert_exporter": "python",
      "pygments_lexer": "ipython3",
      "version": "3.8"
    },
    "kernelspec": {
      "name": "python",
      "display_name": "Pyolite",
      "language": "python"
    }
  },
  "nbformat_minor": 4,
  "nbformat": 4,
  "cells": [
    {
      "cell_type": "code",
      "source": "import sqlite3\nconn = sqlite3.connect('Test.db')\nprint (\"Opened database successfully\");\n\nconn.execute('''CREATE TABLE MOVIES\n         (NAME           CHAR(20),\n         ACTOR           CHAR(20),\n         ACTRESS         CHAR(20),\n         DIRECTOR        CHAR(20),\n         YEAR         INT     NOT NULL);''')\n\nconn.execute(\"INSERT INTO MOVIES (NAME,ACTOR,ACTRESS,DIRECTOR,YEAR) \\\n      VALUES ('SIMMBA', 'Ranveer Singh', 'Sara Ali Khan', 'Rohit Shetty', 2018 )\");\n\nconn.execute(\"INSERT INTO MOVIES (NAME,ACTOR,ACTRESS,DIRECTOR,YEAR) \\\n      VALUES ('Singham Returns', 'Ajay Devgan', 'Kareena Kapoor', 'Rohit Shetty', 2014 )\");\n\nconn.execute(\"INSERT INTO MOVIES (NAME,ACTOR,ACTRESS,DIRECTOR,YEAR) \\\n      VALUES ('Gabbar is Back', 'Akshay kuma', 'Shruti Haasan', 'Krish Jagarlamudi', 2015 )\");\n\nconn.execute(\"INSERT INTO MOVIES (NAME,ACTOR,ACTRESS,DIRECTOR,YEAR) \\\n      VALUES ('Dhoom 3', 'Aamir Khan', 'Katrina Kaif', 'Vijay Krishna Acharya', 2013 )\");\n\nconn.commit()\n\nDetail = conn.execute(\"SELECT NAME,ACTOR,ACTRESS,DIRECTOR,YEAR from MOVIES\")\nfor row in Detail:\n   print (\"NAME = \", row[0] )\n   print (\"ACTOR = \", row[1] )\n   print (\"ACTRESS = \", row[2] )\n   print (\"DIRECTOR = \", row[3] )\n   print (\"YEAR = \", row[4], \"\\n\" )\n\nprint (\"Test successfull\");\nconn.close()",
      "metadata": {
        "trusted": true
      },
      "execution_count": 1,
      "outputs": [
        {
          "name": "stdout",
          "text": "Opened database successfully\nNAME =  SIMMBA\nACTOR =  Ranveer Singh\nACTRESS =  Sara Ali Khan\nDIRECTOR =  Rohit Shetty\nYEAR =  2018 \n\nNAME =  Singham Returns\nACTOR =  Ajay Devgan\nACTRESS =  Kareena Kapoor\nDIRECTOR =  Rohit Shetty\nYEAR =  2014 \n\nNAME =  Gabbar is Back\nACTOR =  Akshay kuma\nACTRESS =  Shruti Haasan\nDIRECTOR =  Krish Jagarlamudi\nYEAR =  2015 \n\nNAME =  Dhoom 3\nACTOR =  Aamir Khan\nACTRESS =  Katrina Kaif\nDIRECTOR =  Vijay Krishna Acharya\nYEAR =  2013 \n\nTest successfull\n",
          "output_type": "stream"
        }
      ]
    },
    {
      "cell_type": "code",
      "source": "",
      "metadata": {},
      "execution_count": null,
      "outputs": []
    }
  ]
}